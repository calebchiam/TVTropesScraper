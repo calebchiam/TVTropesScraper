{
 "cells": [
  {
   "cell_type": "code",
   "execution_count": 1,
   "metadata": {
    "collapsed": true
   },
   "outputs": [],
   "source": [
    "import json\n",
    "import matplotlib.pyplot as plt\n",
    "import numpy as np\n",
    "from sklearn.feature_extraction.text import TfidfVectorizer\n",
    "from sklearn.preprocessing import normalize\n",
    "from scipy.sparse.linalg import svds"
   ]
  },
  {
   "cell_type": "code",
   "execution_count": 7,
   "metadata": {
    "collapsed": true
   },
   "outputs": [],
   "source": [
    "with open(\"Film/Film_tropes_dataset3.json\", 'r') as f:\n",
    "    movie_dataset = json.load(f)\n",
    "    \n",
    "with open(\"Literature/Literature_tropes_dataset3.json\", 'r') as f:\n",
    "    book_dataset = json.load(f)"
   ]
  },
  {
   "cell_type": "code",
   "execution_count": 10,
   "metadata": {
    "collapsed": true
   },
   "outputs": [],
   "source": [
    "dataset = dict()\n",
    "\n",
    "for movie, tropes in movie_dataset.items():\n",
    "    dataset[\"movie-\" + movie] = tropes\n",
    "    \n",
    "for book, tropes in book_dataset.items():\n",
    "    dataset[\"book-\"+book] = tropes\n",
    "    "
   ]
  },
  {
   "cell_type": "code",
   "execution_count": 15,
   "metadata": {},
   "outputs": [
    {
     "data": {
      "text/plain": [
       "7767"
      ]
     },
     "execution_count": 15,
     "metadata": {},
     "output_type": "execute_result"
    }
   ],
   "source": [
    "len(dataset)"
   ]
  },
  {
   "cell_type": "code",
   "execution_count": 149,
   "metadata": {},
   "outputs": [
    {
     "name": "stderr",
     "output_type": "stream",
     "text": [
      "/Users/macuser/Dropbox/Coursework/SP19/CS4300/assignment0/venv/lib/python3.5/site-packages/sklearn/feature_extraction/text.py:1039: FutureWarning: Conversion of the second argument of issubdtype from `float` to `np.floating` is deprecated. In future, it will be treated as `np.float64 == np.dtype(float).type`.\n",
      "  if hasattr(X, 'dtype') and np.issubdtype(X.dtype, np.float):\n"
     ]
    }
   ],
   "source": [
    "vectorizer = TfidfVectorizer(max_df = .7,\n",
    "                            min_df = 0.005)\n",
    "my_matrix = vectorizer.fit_transform([\" \".join(tropes) for tropes in dataset.values()]).transpose()"
   ]
  },
  {
   "cell_type": "code",
   "execution_count": 150,
   "metadata": {},
   "outputs": [
    {
     "data": {
      "text/plain": [
       "(3373, 7767)"
      ]
     },
     "execution_count": 150,
     "metadata": {},
     "output_type": "execute_result"
    }
   ],
   "source": [
    "my_matrix.shape"
   ]
  },
  {
   "cell_type": "code",
   "execution_count": 151,
   "metadata": {
    "collapsed": true
   },
   "outputs": [],
   "source": [
    "u, s, v_trans = svds(my_matrix, k=100)"
   ]
  },
  {
   "cell_type": "code",
   "execution_count": 152,
   "metadata": {},
   "outputs": [
    {
     "data": {
      "image/png": "[encoded data removed]",
      "text/plain": [
       "<matplotlib.figure.Figure at 0x1130186a0>"
      ]
     },
     "metadata": {},
     "output_type": "display_data"
    }
   ],
   "source": [
    "import matplotlib\n",
    "import numpy as np\n",
    "import matplotlib.pyplot as plt\n",
    "%matplotlib inline\n",
    "plt.plot(s[::-1])\n",
    "plt.xlabel(\"Singular value number\")\n",
    "plt.ylabel(\"Singular value\")\n",
    "plt.show()"
   ]
  },
  {
   "cell_type": "code",
   "execution_count": 162,
   "metadata": {
    "collapsed": true
   },
   "outputs": [],
   "source": [
    "tropes_compressed, _, docs_compressed = svds(my_matrix, k=20)\n",
    "docs_compressed = docs_compressed.transpose()"
   ]
  },
  {
   "cell_type": "code",
   "execution_count": 163,
   "metadata": {},
   "outputs": [
    {
     "name": "stdout",
     "output_type": "stream",
     "text": [
      "(3373, 20)\n"
     ]
    }
   ],
   "source": [
    "trope_to_index = vectorizer.vocabulary_\n",
    "index_to_trope = {i:t for t,i in trope_to_index.items()}\n",
    "print(tropes_compressed.shape)"
   ]
  },
  {
   "cell_type": "code",
   "execution_count": 164,
   "metadata": {
    "collapsed": true
   },
   "outputs": [],
   "source": [
    "#row normalize\n",
    "from sklearn.preprocessing import normalize\n",
    "tropes_compressed = normalize(tropes_compressed, axis = 1)"
   ]
  },
  {
   "cell_type": "code",
   "execution_count": 165,
   "metadata": {
    "collapsed": true
   },
   "outputs": [],
   "source": [
    "def closest_tropes(trope_in, k = 10):\n",
    "    if trope_in not in trope_to_index: return \"Not in trope vocab.\"\n",
    "    sims = tropes_compressed.dot(tropes_compressed[trope_to_index[trope_in],:])\n",
    "    asort = np.argsort(-sims)[:k+1]\n",
    "    return [(index_to_trope[i],sims[i]/sims[asort[0]]) for i in asort[1:]]"
   ]
  },
  {
   "cell_type": "code",
   "execution_count": 166,
   "metadata": {},
   "outputs": [
    {
     "data": {
      "text/plain": [
       "3373"
      ]
     },
     "execution_count": 166,
     "metadata": {},
     "output_type": "execute_result"
    }
   ],
   "source": [
    "len(trope_to_index)"
   ]
  },
  {
   "cell_type": "code",
   "execution_count": 167,
   "metadata": {},
   "outputs": [
    {
     "data": {
      "text/plain": [
       "[('unwittingpawn', 0.9027145238146468),\n",
       " ('xanatosspeedchess', 0.864494382387907),\n",
       " ('didntseethatcoming', 0.8304317449050465),\n",
       " ('spannerintheworks', 0.8269351436554458),\n",
       " ('outgambitted', 0.8026792941555941),\n",
       " ('gambitpileup', 0.800732854988877),\n",
       " ('thanatosgambit', 0.7914248765271048),\n",
       " ('theplan', 0.7821898977661184),\n",
       " ('selffulfillingprophecy', 0.7795313403453952),\n",
       " ('ifiwantedyoudead', 0.7772858893082364)]"
      ]
     },
     "execution_count": 167,
     "metadata": {},
     "output_type": "execute_result"
    }
   ],
   "source": [
    "closest_tropes(\"xanatosgambit\")"
   ]
  },
  {
   "cell_type": "code",
   "execution_count": 168,
   "metadata": {
    "collapsed": true
   },
   "outputs": [],
   "source": [
    "index_to_doc = [k for k in dataset]\n",
    "doc_to_index = {k: i for i, k in enumerate(dataset)}"
   ]
  },
  {
   "cell_type": "code",
   "execution_count": 169,
   "metadata": {
    "collapsed": true
   },
   "outputs": [],
   "source": [
    "docs_compressed = normalize(docs_compressed, axis = 1)\n",
    "\n",
    "def closest_projects(doc_name, doc_type, k = 10):\n",
    "    doc_index = doc_to_index[doc_name]\n",
    "    sims = docs_compressed.dot(docs_compressed[doc_index,:])\n",
    "    asort = np.argsort(-sims)\n",
    "    res = [(index_to_doc[i], sims[i]/sims[asort[0]]) for i in asort if doc_type in index_to_doc[i]][:k+1]\n",
    "#     asort = np.argsort(-sims)[:k+1]\n",
    "    return res"
   ]
  },
  {
   "cell_type": "code",
   "execution_count": 173,
   "metadata": {},
   "outputs": [
    {
     "data": {
      "text/plain": [
       "[('movie-Murder on the Orient Express', 0.7061014929454373),\n",
       " (\"movie-Pirates of the Caribbean: Dead Man's Chest\", 0.685237493447648),\n",
       " ('movie-Homeward Bound II: Lost in San Francisco', 0.6851928252445058),\n",
       " ('movie-Star Wars: Episode V - The Empire Strikes Back', 0.6839609257346494),\n",
       " ('movie-The Empire Strikes Back', 0.6839609257346494),\n",
       " ('movie-Toy Story', 0.683135886369114),\n",
       " ('movie-The Rugrats Movie', 0.6821134183626213),\n",
       " ('movie-Jersey Girl', 0.6680828882009483),\n",
       " ('movie-Dr. Dolittle', 0.6586612109151525),\n",
       " ('movie-Ice Age 2: The Meltdown', 0.6565547992886899),\n",
       " ('movie-Shrek 2', 0.6549784271347993)]"
      ]
     },
     "execution_count": 173,
     "metadata": {},
     "output_type": "execute_result"
    }
   ],
   "source": [
    "closest_projects(\"book-Harry Potter and the Prisoner of Azkaban\", \"movie\")"
   ]
  },
  {
   "cell_type": "code",
   "execution_count": null,
   "metadata": {
    "collapsed": true
   },
   "outputs": [],
   "source": []
  },
  {
   "cell_type": "code",
   "execution_count": null,
   "metadata": {
    "collapsed": true
   },
   "outputs": [],
   "source": []
  },
  {
   "cell_type": "code",
   "execution_count": null,
   "metadata": {
    "collapsed": true
   },
   "outputs": [],
   "source": []
  }
 ],
 "metadata": {
  "kernelspec": {
   "display_name": "4300venv",
   "language": "python",
   "name": "4300venv"
  },
  "language_info": {
   "codemirror_mode": {
    "name": "ipython",
    "version": 3
   },
   "file_extension": ".py",
   "mimetype": "text/x-python",
   "name": "python",
   "nbconvert_exporter": "python",
   "pygments_lexer": "ipython3",
   "version": "3.5.2"
  }
 },
 "nbformat": 4,
 "nbformat_minor": 2
}
